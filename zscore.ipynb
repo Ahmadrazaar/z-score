{
  "nbformat": 4,
  "nbformat_minor": 0,
  "metadata": {
    "colab": {
      "name": "zscore.ipynb",
      "provenance": []
    },
    "kernelspec": {
      "name": "python3",
      "display_name": "Python 3"
    },
    "language_info": {
      "name": "python"
    }
  },
  "cells": [
    {
      "cell_type": "markdown",
      "source": [
        "importing libraries\n"
      ],
      "metadata": {
        "id": "gnMf9DXc38rw"
      }
    },
    {
      "cell_type": "code",
      "execution_count": 2,
      "metadata": {
        "id": "YIqju-yg2YNQ"
      },
      "outputs": [],
      "source": [
        "import numpy as np\n",
        "import pandas as pd\n",
        "import scipy.stats as stats"
      ]
    },
    {
      "cell_type": "markdown",
      "source": [
        "creating numpy array\n"
      ],
      "metadata": {
        "id": "4n1Y0iqX37ow"
      }
    },
    {
      "cell_type": "code",
      "source": [
        "data = np.array([6,7,7,12,13,15,16,19,22])"
      ],
      "metadata": {
        "id": "-o99Sfl_2diC"
      },
      "execution_count": 4,
      "outputs": []
    },
    {
      "cell_type": "markdown",
      "source": [
        "calculate the z-scores of each data"
      ],
      "metadata": {
        "id": "z3a-yJJa4KJQ"
      }
    },
    {
      "cell_type": "code",
      "source": [
        "stats.zscore(data)"
      ],
      "metadata": {
        "colab": {
          "base_uri": "https://localhost:8080/"
        },
        "id": "wccMMxpe3WkM",
        "outputId": "e6b30ccd-7a9d-4b14-8ac0-778546b5a9be"
      },
      "execution_count": 5,
      "outputs": [
        {
          "output_type": "execute_result",
          "data": {
            "text/plain": [
              "array([-1.32287566, -1.13389342, -1.13389342, -0.18898224,  0.        ,\n",
              "        0.37796447,  0.56694671,  1.13389342,  1.70084013])"
            ]
          },
          "metadata": {},
          "execution_count": 5
        }
      ]
    },
    {
      "cell_type": "code",
      "source": [
        ""
      ],
      "metadata": {
        "id": "IFMQLoQa32sp"
      },
      "execution_count": null,
      "outputs": []
    }
  ]
}